{
 "cells": [
  {
   "cell_type": "code",
   "execution_count": 1,
   "metadata": {},
   "outputs": [],
   "source": [
    "import pandas as pd\n",
    "\n",
    "# Load datasets\n",
    "df_Training = pd.read_csv('Training.csv')\n",
    "df_Testing = pd.read_csv('Testing.csv')\n",
    "\n",
    "# Combine 15to19, 20, and 211\n",
    "Dataset = pd.concat([df_Training, df_Testing], ignore_index=True)\n",
    "\n",
    "# Save combined datasets to new CSV files\n",
    "Dataset.to_csv('Dataset.csv', index=False)\n",
    "\n"
   ]
  }
 ],
 "metadata": {
  "kernelspec": {
   "display_name": "Python 3",
   "language": "python",
   "name": "python3"
  },
  "language_info": {
   "codemirror_mode": {
    "name": "ipython",
    "version": 3
   },
   "file_extension": ".py",
   "mimetype": "text/x-python",
   "name": "python",
   "nbconvert_exporter": "python",
   "pygments_lexer": "ipython3",
   "version": "3.12.5"
  }
 },
 "nbformat": 4,
 "nbformat_minor": 2
}
